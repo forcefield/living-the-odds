{
 "cells": [
  {
   "cell_type": "markdown",
   "metadata": {},
   "source": [
    "## The problem"
   ]
  },
  {
   "cell_type": "markdown",
   "metadata": {},
   "source": [
    "Here I address the following question.  Suppose that we would like to pick out a desirable subset from a collection of items based on a quantitative value $x$ (smaller the $x$, more desirable the item), and we can measure or compute this value to within certain accuracy $\\delta$.  If we select the top $f$ fraction of the items based on the computed values $\\bar{x}$, what is the probability that the true value of any given selection is smaller than a cutoff value $x_c$?   "
   ]
  },
  {
   "cell_type": "markdown",
   "metadata": {},
   "source": [
    "## The math"
   ]
  },
  {
   "cell_type": "markdown",
   "metadata": {},
   "source": [
    "I will start with some assumptions.  First, the true values of the items follow certain probabilty distribution $p_t(x)$.  For simplicity, I take this to be a normal distribution with a mean of $x_0$ and a standard deviation of $\\sigma$."
   ]
  },
  {
   "cell_type": "markdown",
   "metadata": {},
   "source": [
    "$p_t(x) = (\\sqrt{2\\pi} \\sigma)^{-1} \\exp\\left(-\\frac{(x - x_0)^2}{2\\sigma^2}\\right)$"
   ]
  },
  {
   "cell_type": "markdown",
   "metadata": {},
   "source": [
    "Second, the measured or computed value deviates from the true value by an error that can be described by a probability distribution $p_c(\\bar{x}|x) = p_c( \\bar{x} - x )$.  For simplicity, I take this to be also a normal distribution"
   ]
  },
  {
   "cell_type": "markdown",
   "metadata": {},
   "source": [
    "$p_c( \\bar{x} | x ) = (\\sqrt{2\\pi}\\delta)^{-1} \\exp\\left( - \\frac{(\\bar{x} - x)^2}{2\\delta^2}\\right)$"
   ]
  },
  {
   "cell_type": "markdown",
   "metadata": {},
   "source": [
    "The conditional probability that we are after is then"
   ]
  },
  {
   "cell_type": "markdown",
   "metadata": {},
   "source": [
    "$p(x\\leq x_c|\\bar{x} \\leq \\bar{x}_c)$"
   ]
  },
  {
   "cell_type": "markdown",
   "metadata": {},
   "source": [
    "where $\\bar{x}_c$ is the cutoff value for the top $f$ fraction of the lowest measured values, i.e.,"
   ]
  },
  {
   "cell_type": "markdown",
   "metadata": {},
   "source": [
    "$p(\\bar{x}\\leq \\bar{x}_c) = f$"
   ]
  },
  {
   "cell_type": "markdown",
   "metadata": {},
   "source": [
    "We can compute the sought probability by"
   ]
  },
  {
   "cell_type": "markdown",
   "metadata": {},
   "source": [
    "$p(x\\leq x_c|\\bar{x}\\leq \\bar{x}_c) = \\int_{-\\infty}^{x_c} p(x|\\bar{x}\\leq \\bar{x}_c) dx\n",
    " = \\int_{-\\infty}^{x_c} \\frac{p_t(x) p(\\bar{x} \\leq \\bar{x}_c | x)}{p(\\bar{x} \\leq \\bar{x}_c)} dx$"
   ]
  },
  {
   "cell_type": "markdown",
   "metadata": {},
   "source": [
    "The conditional probability $p(\\bar{x}\\leq\\bar{x}_c|x)$ is given by"
   ]
  },
  {
   "cell_type": "markdown",
   "metadata": {},
   "source": [
    "$p(\\bar{x}\\leq\\bar{x}_c|x) = \\int_{-\\infty}^{\\bar{x}_c} p(\\bar{x}|x)d\\bar{x} = \\frac{1}{2}\\left(1 + \\mathrm{erf}\\left(\\frac{\\bar{x}_c - x}{\\sqrt{2}\\delta}\\right)\\right)$"
   ]
  },
  {
   "cell_type": "markdown",
   "metadata": {},
   "source": [
    "Thus"
   ]
  },
  {
   "cell_type": "markdown",
   "metadata": {},
   "source": [
    "$p(x\\leq x_c|\\bar{x}\\leq \\bar{x}_c) = (2f)^{-1} \\int_{-\\infty}^{x_c} p_t(x) \\left(1 + \\mathrm{erf}\\left(\\frac{\\bar{x}_c - x}{\\sqrt{2}\\delta}\\right)\\right) dx$"
   ]
  },
  {
   "cell_type": "markdown",
   "metadata": {},
   "source": [
    "To determine $\\bar{x}_c$ from $f$, we note that"
   ]
  },
  {
   "cell_type": "markdown",
   "metadata": {},
   "source": [
    "$f = p(\\bar{x} \\leq \\bar{x}_c) = \\int_{-\\infty}^{\\bar{x}_c} p(\\bar{x}) d\\bar{x} = \\frac{1}{2}\\left(1 + \\mathrm{erf}\\left(\\frac{\\bar{x}_c - x_0}{\\sqrt{2(\\sigma^2 + \\delta^2)}}\\right)\\right)$"
   ]
  },
  {
   "cell_type": "markdown",
   "metadata": {},
   "source": [
    "where $p(\\bar{x})$ is the marginal distribution of the measured values $\\bar{x}$:"
   ]
  },
  {
   "cell_type": "markdown",
   "metadata": {},
   "source": [
    "$p(\\bar{x}) = \\int p_t(x) p_c(\\bar{x}|x) dx = \\left(\\sqrt{2\\pi(\\sigma^2 + \\delta^2}\\right)^{-1} \\exp\\left( - \\frac{(\\bar{x} - x_0)^2}{2(\\sigma^2 + \\delta^2)} \\right)$"
   ]
  },
  {
   "cell_type": "markdown",
   "metadata": {},
   "source": [
    "### Discrete selections"
   ]
  },
  {
   "cell_type": "markdown",
   "metadata": {},
   "source": [
    "If we are selecting the top $n$ itesm out a total of $N$ items based on the predicted values, we would like to know what is the probability that ONE out of the $n$ selections have the desired value $x \\leq x_c$.  For each of the selected item the probability is $p_1 = p(x\\leq x_c|\\bar{x}\\leq \\bar{x}_c)$, where $p(\\bar{x}\\leq\\bar{x}_c) = f \\equiv n/N$.  Thus the probability that one of the items has $x \\leq x_c$ is "
   ]
  },
  {
   "cell_type": "markdown",
   "metadata": {},
   "source": [
    "$p_n = 1 - (1 - p_1)^n$"
   ]
  },
  {
   "cell_type": "markdown",
   "metadata": {},
   "source": [
    "## The code"
   ]
  },
  {
   "cell_type": "code",
   "execution_count": 51,
   "metadata": {
    "collapsed": true
   },
   "outputs": [],
   "source": [
    "import numpy as np\n",
    "from scipy.optimize import fsolve\n",
    "from scipy.special import erf\n",
    "from scipy.integrate import quad\n",
    "\n",
    "sqrt2 = np.sqrt(2.)\n",
    "sqrt2pi = np.sqrt( 2*np.pi)"
   ]
  },
  {
   "cell_type": "code",
   "execution_count": 2,
   "metadata": {
    "collapsed": true
   },
   "outputs": [],
   "source": [
    "def gaussian( y, m, s):\n",
    "    t = (y - m)/s\n",
    "    return 1/(sqrt2pi*s)*np.exp(-0.5*t*t)"
   ]
  },
  {
   "cell_type": "code",
   "execution_count": 68,
   "metadata": {
    "collapsed": true
   },
   "outputs": [],
   "source": [
    "def pxc( xc, m, s):\n",
    "    '''\n",
    "    Compute p(x <= xc) for a normal distribution with mean m and standard deviation s.\n",
    "    '''\n",
    "    return 0.5*(1 + erf( (xc - m)/(sqrt2*s)))"
   ]
  },
  {
   "cell_type": "code",
   "execution_count": 96,
   "metadata": {},
   "outputs": [
    {
     "data": {
      "text/plain": [
       "True"
      ]
     },
     "execution_count": 96,
     "metadata": {},
     "output_type": "execute_result"
    }
   ],
   "source": [
    "def test_pxc( m=0.5, s=1.3):\n",
    "    success = True\n",
    "    for xc in np.arange( m - 3*s, m + 3*s, 0.1):\n",
    "        p, err = quad( lambda x: gaussian(x, m, s), -np.inf, xc)\n",
    "        pp = pxc( xc, m, s)\n",
    "        success = success and (np.abs(pp - p) < err)\n",
    "        \n",
    "    return success\n",
    "\n",
    "test_pxc()"
   ]
  },
  {
   "cell_type": "code",
   "execution_count": 90,
   "metadata": {
    "collapsed": true
   },
   "outputs": [],
   "source": [
    "def solve_xc( f, x0, s):\n",
    "    '''\n",
    "    Solve the equation of xc\n",
    "    \n",
    "    p(x <= xc) = f\n",
    "    \n",
    "    where p is a normal distribution with mean x0 and standard deviation s.\n",
    "    '''\n",
    "    xc = fsolve( lambda x: 0.5*(1 + erf( (x - x0)/(sqrt2*s))) - f, 0.)\n",
    "    return xc[0]"
   ]
  },
  {
   "cell_type": "markdown",
   "metadata": {},
   "source": [
    "Unit test: $p(x\\leq x_c) \\equiv f$"
   ]
  },
  {
   "cell_type": "code",
   "execution_count": 91,
   "metadata": {},
   "outputs": [
    {
     "name": "stdout",
     "output_type": "stream",
     "text": [
      "9.03263728251e-18 0.0\n",
      "0.2 0.2\n",
      "0.4 0.4\n",
      "0.6 0.6000000000000001\n",
      "0.8 0.8\n"
     ]
    },
    {
     "data": {
      "text/plain": [
       "(True, 5.551115123125783e-16)"
      ]
     },
     "execution_count": 91,
     "metadata": {},
     "output_type": "execute_result"
    }
   ],
   "source": [
    "def test_solve_xc( m=0.1, s=1.5, tol=1e-12):\n",
    "    df = []\n",
    "    for f0 in np.arange( 0, 1, 0.2):\n",
    "        f, err = quad( lambda x: gaussian( x, m, s), -np.inf, solve_xc(f0, x0=m, s=s))\n",
    "        df.append( np.abs(f - f0))\n",
    "        print f, f0\n",
    "    maxdf = np.max( df)\n",
    "    return maxdf < tol, maxdf\n",
    "\n",
    "test_solve_xc()"
   ]
  },
  {
   "cell_type": "code",
   "execution_count": 92,
   "metadata": {},
   "outputs": [],
   "source": [
    "def pxcinf( xc, f, x0, s, d):\n",
    "    '''\n",
    "    Compute p(x<=xc | xb <= xbc), where p(xb <= xbc) = f.\n",
    "    '''\n",
    "    sd = np.sqrt(s*s + d*d)\n",
    "    xbc = solve_xc( f, x0, sd)\n",
    "    y, err = quad( lambda x: gaussian(x, x0, s)*(1 + erf((xbc - x)/(sqrt2*d))), -np.inf, xc)\n",
    "    return y/(2*f)"
   ]
  },
  {
   "cell_type": "markdown",
   "metadata": {},
   "source": [
    "Sanity check: if we have perfectly accurate results, any item in the top $f$ fraction based on the computed results should satisfy $x \\leq x_c$ where $p_t(x\\leq x_c) = f$."
   ]
  },
  {
   "cell_type": "code",
   "execution_count": 112,
   "metadata": {},
   "outputs": [
    {
     "name": "stdout",
     "output_type": "stream",
     "text": [
      "1.000000000000023\n",
      "1.0000000000000115\n",
      "1.0000000000000004\n",
      "1.0000000000000004\n",
      "1.0000000000000002\n",
      "1.0\n",
      "1.0\n",
      "1.0\n",
      "1.0000000000000127\n",
      "0.9999999999999962\n"
     ]
    },
    {
     "data": {
      "text/plain": [
       "(True, 2.3092638912203256e-14)"
      ]
     },
     "execution_count": 112,
     "metadata": {},
     "output_type": "execute_result"
    }
   ],
   "source": [
    "def test_pxcinf_perfect_accuracy( x0=0.3, s=1.2, d=1e-10, tol=1e-12):\n",
    "    dp = []\n",
    "    for f0 in np.arange( 1e-3, 1, 0.1):\n",
    "        p = pxcinf( solve_xc( f0, x0, s), f0, x0, s, d)\n",
    "        print p\n",
    "        dp.append( np.abs(p - 1.))\n",
    "    maxdp = np.max( dp)\n",
    "    return maxdp < tol, maxdp\n",
    "\n",
    "test_pxcinf_perfect_accuracy()"
   ]
  },
  {
   "cell_type": "markdown",
   "metadata": {},
   "source": [
    "Sanity check: if the measured values are infinitely inaccurate ($\\delta = \\infty$), the probability that any selected item will have $x \\leq x_c$ is simply the uninformed probability $p_t( x\\leq x_c)$."
   ]
  },
  {
   "cell_type": "code",
   "execution_count": 94,
   "metadata": {},
   "outputs": [
    {
     "name": "stdout",
     "output_type": "stream",
     "text": [
      "0.0010000013594661718 0.0010000000000000009\n",
      "0.10100003712886299 0.1010000000000012\n",
      "0.20100004707440924 0.20100000000000012\n",
      "0.3010000483405012 0.30100000000000016\n",
      "0.4010000447248005 0.401\n",
      "0.5010000381207048 0.501\n",
      "0.601000029763167 0.6010000000000001\n",
      "0.7010000206319152 0.7010000000000001\n",
      "0.8010000116714892 0.8009999999999999\n",
      "0.9010000040422378 0.9009999999999965\n"
     ]
    },
    {
     "data": {
      "text/plain": [
       "(True, 4.834050104651766e-08)"
      ]
     },
     "execution_count": 94,
     "metadata": {},
     "output_type": "execute_result"
    }
   ],
   "source": [
    "def test_pxcinf_uninformative( x0=0.3, s=1.2, d=1e7, tol=1e-7):\n",
    "    dp = []\n",
    "    for f in np.arange( 1e-3, 1, 0.1):\n",
    "        xc = solve_xc( f, x0, s)\n",
    "        p = pxcinf( xc, f, x0, s, d)\n",
    "        print p, pxc( xc, x0, s)\n",
    "        dp.append( np.abs( p - pxc( xc, x0, s)))\n",
    "    maxdp = np.max( dp)\n",
    "    return maxdp < tol, maxdp\n",
    "\n",
    "test_pxcinf_uninformative()"
   ]
  },
  {
   "cell_type": "markdown",
   "metadata": {},
   "source": [
    "### Numerical simulations"
   ]
  },
  {
   "cell_type": "code",
   "execution_count": 133,
   "metadata": {
    "collapsed": true
   },
   "outputs": [],
   "source": [
    "def simulate_pfound( N, n, xc, x0, s, d, trials = 1000):\n",
    "    '''\n",
    "    Compute the probability that of $n$ items out a total of $N$ with the lowest predicted x values, one of them \n",
    "    has a true x value x <= xc, given the accuracy d.\n",
    "    \n",
    "    The true values have a normal distribution with mean x0 and standard deviation s.\n",
    "    '''\n",
    "    success = 0\n",
    "    for t in xrange( trials):\n",
    "        xs = np.random.normal( x0, s, N)\n",
    "        xbs = np.array( [ np.random.normal( xs[i], d) for i in xrange( N) ])  # predicted values\n",
    "        js = range( N)\n",
    "        js.sort( key=lambda i: xbs[i])\n",
    "        success += np.any( xs[js[:n]] < xc)\n",
    "    return success/float(trials)"
   ]
  },
  {
   "cell_type": "markdown",
   "metadata": {},
   "source": [
    "## The examples"
   ]
  },
  {
   "cell_type": "code",
   "execution_count": 170,
   "metadata": {
    "collapsed": true
   },
   "outputs": [],
   "source": [
    "%matplotlib inline\n",
    "import matplotlib\n",
    "from matplotlib import pyplot as plt\n",
    "matplotlib.rcParams.update( {'font.size': 16})"
   ]
  },
  {
   "cell_type": "markdown",
   "metadata": {},
   "source": [
    "We want to pick molecules based on their computed binding free energies. Suppose that among any random set of candidate molecules, only one out one hundred ($f_c = 0.01$) molecules improves the binding free energy by $\\Delta\\Delta G \\leq -1.36$ (kcal/mol), and the molecules have relative binding free energies centered around $\\langle \\Delta\\Delta G \\rangle = 0$.  The standard deviation in the $\\Delta\\Delta G$, assuming normal distribution, is then"
   ]
  },
  {
   "cell_type": "code",
   "execution_count": 125,
   "metadata": {},
   "outputs": [
    {
     "name": "stdout",
     "output_type": "stream",
     "text": [
      "std(ddG) = 0.585\n"
     ]
    }
   ],
   "source": [
    "g0 = 0.\n",
    "gc = -1.36\n",
    "fc = 0.01\n",
    "sg = fsolve( lambda s: pxc(gc, g0, s) - fc, 1.)[0]\n",
    "print 'std(ddG) = %.3f' % sg"
   ]
  },
  {
   "cell_type": "markdown",
   "metadata": {},
   "source": [
    "If we computationally screen $N=100$ molecules, and pick the top $n=10$ ($f=n/N=0.1$) molecules based on computed $\\Delta\\Delta G_{\\mathrm{RBFE}}$, the probability that any of the selected molecule will have $\\Delta\\Delta G \\leq -1.36$ is "
   ]
  },
  {
   "cell_type": "code",
   "execution_count": 120,
   "metadata": {
    "collapsed": true
   },
   "outputs": [],
   "source": [
    "def pddGgood( delta, f=0.1, gc=gc, g0=g0, sg=sg):\n",
    "    '''\n",
    "    Compute the probability that any of the computationally selected molecule in the top f fraction has a good \n",
    "    ddG < gc, if the computational accuracy is delta.   \n",
    "    '''\n",
    "    return pxcinf( gc, f, g0, sg, delta)"
   ]
  },
  {
   "cell_type": "markdown",
   "metadata": {},
   "source": [
    "We are interested in the probability that one of the $n$ selected molecules has $\\Delta\\Delta G\\leq\\Delta\\Delta G_c$. Let's compute these at different accuracy levels:"
   ]
  },
  {
   "cell_type": "code",
   "execution_count": 192,
   "metadata": {
    "collapsed": true
   },
   "outputs": [],
   "source": [
    "myaccuracies = np.array( [0.2, 0.5, 0.75, 1., 1.5, 3.])\n",
    "myresults = dict()"
   ]
  },
  {
   "cell_type": "code",
   "execution_count": 193,
   "metadata": {},
   "outputs": [],
   "source": [
    "def pfoundit_vs_accuracy( ds, n=10, f=0.1, gc=gc, g0=g0, sg=sg):\n",
    "    ps = np.array( [ pddGgood( d, f, gc, g0, sg) for d in ds ])\n",
    "    return 1 - np.power((1-ps), n)\n",
    "\n",
    "myresults['pfound'] = dict( ds=myaccuracies,\n",
    "                            ps=pfoundit_vs_accuracy( myaccuracies))"
   ]
  },
  {
   "cell_type": "code",
   "execution_count": 194,
   "metadata": {},
   "outputs": [
    {
     "data": {
      "text/plain": [
       "{'ds': array([0.2 , 0.5 , 0.75, 1.  , 1.5 , 3.  ]),\n",
       " 'ps': array([0.65113093, 0.59309377, 0.49972386, 0.41885856, 0.31333328,\n",
       "        0.19638625])}"
      ]
     },
     "execution_count": 194,
     "metadata": {},
     "output_type": "execute_result"
    }
   ],
   "source": [
    "myresults['pfound']"
   ]
  },
  {
   "cell_type": "code",
   "execution_count": 198,
   "metadata": {},
   "outputs": [],
   "source": [
    "def simulate_pfound_vs_accuracy( ds, N=100, n=10, xc=gc, x0=g0, s=sg, trials=2000, repeats=5):\n",
    "    ps = []\n",
    "    for d in ds:\n",
    "        p = np.zeros( repeats)\n",
    "        for r in xrange(repeats):\n",
    "            p[r] = simulate_pfound( N, n, xc, x0, s, d, trials)\n",
    "        ps.append( (np.mean(p), np.std(p)))\n",
    "    return np.array(ps)\n",
    "\n",
    "myresults['pfoundsim'] = dict( ds = myaccuracies,\n",
    "                            ps = simulate_pfound_vs_accuracy( myaccuracies, trials=2000, repeats=10))   "
   ]
  },
  {
   "cell_type": "code",
   "execution_count": 199,
   "metadata": {},
   "outputs": [
    {
     "data": {
      "text/plain": [
       "{'ds': array([0.2 , 0.5 , 0.75, 1.  , 1.5 , 3.  ]),\n",
       " 'ps': array([[0.6273    , 0.01340187],\n",
       "        [0.57905   , 0.00678767],\n",
       "        [0.4857    , 0.00815843],\n",
       "        [0.4124    , 0.00645291],\n",
       "        [0.3073    , 0.01345028],\n",
       "        [0.18845   , 0.00686094]])}"
      ]
     },
     "execution_count": 199,
     "metadata": {},
     "output_type": "execute_result"
    }
   ],
   "source": [
    "myresults['pfoundsim']"
   ]
  },
  {
   "cell_type": "code",
   "execution_count": 200,
   "metadata": {},
   "outputs": [
    {
     "data": {
      "image/png": "[encoded data removed]",
      "text/plain": [
       "<matplotlib.figure.Figure at 0x7f9280bc44d0>"
      ]
     },
     "metadata": {},
     "output_type": "display_data"
    }
   ],
   "source": [
    "def plot_pfound_vs_accuracy( pfoundsim, n=10, f=0.1, gc=gc, g0=g0, sg=sg):\n",
    "    ds = np.arange( 0.2, 4, 0.05)\n",
    "    ps = pfoundit_vs_accuracy( ds, n, f, gc, g0, sg)\n",
    "    fig, ax = plt.subplots()\n",
    "    ax.plot( ds, ps, label='analytical')\n",
    "    dsp, psp = pfoundsim['ds'], pfoundsim['ps']\n",
    "    ax.errorbar( dsp, psp[:,0], yerr=psp[:,1], fmt='d', label='simulated')\n",
    "    ax.set_xlabel('Accuracy in predicted $\\Delta\\Delta G$ (kcal/mol)')\n",
    "    ax.set_ylabel('Probability of finding hit')\n",
    "    ax.legend( loc='best')\n",
    "    return fig\n",
    "\n",
    "_ = plot_pfound_vs_accuracy( myresults['pfoundsim'])\n",
    "    "
   ]
  },
  {
   "cell_type": "markdown",
   "metadata": {},
   "source": [
    "Let's also compute the following conditional probability: if there is indeed at least one molecule out the $N$ molecule with $\\Delta\\Delta G \\leq \\Delta\\Delta G_c$, what is the probability that it is among the $n$ top selections based on the computed $\\Delta\\Delta G$ values?"
   ]
  },
  {
   "cell_type": "markdown",
   "metadata": {},
   "source": [
    "$p(\\mathrm{found\\ in\\ }n|\\min(x) \\leq x_c) = p(\\min(x) \\leq x_c | \\mathrm{found\\ in\\ }n) p(\\mathrm{found\\ in\\ }n)/p(\\min(x) \\leq x_c) = p(\\mathrm{found\\ in\\ }n)/p(\\min(x) \\leq x_c)$\n",
    "\n",
    "where we have used the obvious fact $p(\\min(x) \\leq x_c | \\mathrm{found\\ in\\ }n) = 1$: if we found an item with $x<x_c$ in the top $n$, then surely $\\min(x)\\leq x_c$."
   ]
  },
  {
   "cell_type": "markdown",
   "metadata": {},
   "source": [
    "$p(\\min(x) \\leq x_c) = 1 - (1 - p(x\\leq x_c))^N$"
   ]
  },
  {
   "cell_type": "code",
   "execution_count": 206,
   "metadata": {},
   "outputs": [
    {
     "data": {
      "text/plain": [
       "[(0.2, array([0.98948265, 0.02113967])),\n",
       " (0.5, array([0.91337467, 0.01070665])),\n",
       " (0.75, array([0.76612741, 0.01286884])),\n",
       " (1.0, array([0.65050637, 0.0101786 ])),\n",
       " (1.5, array([0.48472504, 0.02121603])),\n",
       " (3.0, array([0.29725491, 0.01082222]))]"
      ]
     },
     "execution_count": 206,
     "metadata": {},
     "output_type": "execute_result"
    }
   ],
   "source": [
    "zip(myresults['pfoundsim']['ds'], myresults['pfoundsim']['ps']/(1 - np.power((1 - pxc(gc, g0, sg)), 100)))"
   ]
  },
  {
   "cell_type": "code",
   "execution_count": null,
   "metadata": {
    "collapsed": true
   },
   "outputs": [],
   "source": []
  }
 ],
 "metadata": {
  "kernelspec": {
   "display_name": "Python 2",
   "language": "python",
   "name": "python2"
  },
  "language_info": {
   "codemirror_mode": {
    "name": "ipython",
    "version": 2
   },
   "file_extension": ".py",
   "mimetype": "text/x-python",
   "name": "python",
   "nbconvert_exporter": "python",
   "pygments_lexer": "ipython2",
   "version": "2.7.15"
  }
 },
 "nbformat": 4,
 "nbformat_minor": 2
}
